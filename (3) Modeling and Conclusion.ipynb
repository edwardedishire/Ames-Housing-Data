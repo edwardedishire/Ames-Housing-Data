{
 "cells": [
  {
   "cell_type": "markdown",
   "metadata": {},
   "source": [
    "\n",
    "  # Project 2 - Ames Housing Data and Kaggle Challenge"
   ]
  },
  {
   "cell_type": "markdown",
   "metadata": {},
   "source": [
    "In this last section of the project, i imported the cleaned data and perform various models on it. I used Linear, Lasso and Ridge regression on 3 different types of train sets; unscaled, scaled and automated feature selection. This allowed me to compare which model works best for which version of the train dataset. \n",
    "\n",
    "According to the results, Ridge performed relatively well on 3 experiments. One thing to note is that Linear regression performed very badly on scaled data. Therefore, i have decided to use Ridge Regression to contruct my final model as it produced the most accurate score out of the 3."
   ]
  },
  {
   "cell_type": "markdown",
   "metadata": {},
   "source": [
    "## Data Import\n",
    "### Importing Relevant Libraries"
   ]
  },
  {
   "cell_type": "code",
   "execution_count": 1,
   "metadata": {},
   "outputs": [],
   "source": [
    "# Imports:\n",
    "import pandas as pd\n",
    "import numpy as np\n",
    "import matplotlib.pyplot as plt\n",
    "import seaborn as sns\n",
    "import scipy.stats as stats\n",
    "import seaborn as sns\n",
    "%matplotlib inline\n",
    "\n",
    "#scikit \n",
    "import sklearn.metrics as metrics\n",
    "import sklearn.linear_model as linear_model\n",
    "from sklearn.linear_model import LinearRegression, Lasso, LassoCV, Ridge, RidgeCV\n",
    "from sklearn.model_selection import train_test_split, cross_val_score, KFold, cross_val_predict\n",
    "from sklearn.preprocessing import PolynomialFeatures, StandardScaler\n",
    "from sklearn.metrics import r2_score\n",
    "from sklearn.feature_selection import SelectFromModel\n",
    "from sklearn.ensemble import RandomForestRegressor\n",
    "\n",
    "#warnings\n",
    "import warnings\n",
    "warnings.filterwarnings('ignore')"
   ]
  },
  {
   "cell_type": "markdown",
   "metadata": {},
   "source": [
    "### Importing Datasets"
   ]
  },
  {
   "cell_type": "code",
   "execution_count": 2,
   "metadata": {},
   "outputs": [],
   "source": [
    "sample_sr = pd.read_csv('./datasets/sample_sub_reg.csv')\n",
    "test = pd.read_csv('./datasets/test_temp.csv')\n",
    "train = pd.read_csv('./datasets/train_temp.csv')\n",
    "df = pd.read_csv('./datasets/train_clean.csv')\n",
    "dftest = pd.read_csv('./datasets/test_clean.csv')"
   ]
  },
  {
   "cell_type": "code",
   "execution_count": 3,
   "metadata": {},
   "outputs": [
    {
     "data": {
      "text/html": [
       "<div>\n",
       "<style scoped>\n",
       "    .dataframe tbody tr th:only-of-type {\n",
       "        vertical-align: middle;\n",
       "    }\n",
       "\n",
       "    .dataframe tbody tr th {\n",
       "        vertical-align: top;\n",
       "    }\n",
       "\n",
       "    .dataframe thead th {\n",
       "        text-align: right;\n",
       "    }\n",
       "</style>\n",
       "<table border=\"1\" class=\"dataframe\">\n",
       "  <thead>\n",
       "    <tr style=\"text-align: right;\">\n",
       "      <th></th>\n",
       "      <th>MS Zoning_FV</th>\n",
       "      <th>MS Zoning_RH</th>\n",
       "      <th>MS Zoning_RL</th>\n",
       "      <th>MS Zoning_RM</th>\n",
       "      <th>Street_Pave</th>\n",
       "      <th>Lot Shape_IR2</th>\n",
       "      <th>Lot Shape_IR3</th>\n",
       "      <th>Lot Shape_Reg</th>\n",
       "      <th>Land Contour_HLS</th>\n",
       "      <th>Land Contour_Low</th>\n",
       "      <th>...</th>\n",
       "      <th>Lot Frontage</th>\n",
       "      <th>Lot Area</th>\n",
       "      <th>Overall Qual</th>\n",
       "      <th>Year Built</th>\n",
       "      <th>Year Remod/Add</th>\n",
       "      <th>Gr Liv Area</th>\n",
       "      <th>TotRms AbvGrd</th>\n",
       "      <th>Fireplaces</th>\n",
       "      <th>Wood Deck SF</th>\n",
       "      <th>Total Bath</th>\n",
       "    </tr>\n",
       "  </thead>\n",
       "  <tbody>\n",
       "    <tr>\n",
       "      <th>0</th>\n",
       "      <td>0</td>\n",
       "      <td>0</td>\n",
       "      <td>1</td>\n",
       "      <td>0</td>\n",
       "      <td>1</td>\n",
       "      <td>0</td>\n",
       "      <td>0</td>\n",
       "      <td>0</td>\n",
       "      <td>0</td>\n",
       "      <td>0</td>\n",
       "      <td>...</td>\n",
       "      <td>79.6</td>\n",
       "      <td>13517</td>\n",
       "      <td>6</td>\n",
       "      <td>1976</td>\n",
       "      <td>2005</td>\n",
       "      <td>1479</td>\n",
       "      <td>6</td>\n",
       "      <td>0</td>\n",
       "      <td>0</td>\n",
       "      <td>2.5</td>\n",
       "    </tr>\n",
       "    <tr>\n",
       "      <th>1</th>\n",
       "      <td>0</td>\n",
       "      <td>0</td>\n",
       "      <td>1</td>\n",
       "      <td>0</td>\n",
       "      <td>1</td>\n",
       "      <td>0</td>\n",
       "      <td>0</td>\n",
       "      <td>0</td>\n",
       "      <td>0</td>\n",
       "      <td>0</td>\n",
       "      <td>...</td>\n",
       "      <td>43.0</td>\n",
       "      <td>11492</td>\n",
       "      <td>7</td>\n",
       "      <td>1996</td>\n",
       "      <td>1997</td>\n",
       "      <td>2122</td>\n",
       "      <td>8</td>\n",
       "      <td>1</td>\n",
       "      <td>0</td>\n",
       "      <td>3.5</td>\n",
       "    </tr>\n",
       "    <tr>\n",
       "      <th>2</th>\n",
       "      <td>0</td>\n",
       "      <td>0</td>\n",
       "      <td>1</td>\n",
       "      <td>0</td>\n",
       "      <td>1</td>\n",
       "      <td>0</td>\n",
       "      <td>0</td>\n",
       "      <td>1</td>\n",
       "      <td>0</td>\n",
       "      <td>0</td>\n",
       "      <td>...</td>\n",
       "      <td>68.0</td>\n",
       "      <td>7922</td>\n",
       "      <td>5</td>\n",
       "      <td>1953</td>\n",
       "      <td>2007</td>\n",
       "      <td>1057</td>\n",
       "      <td>5</td>\n",
       "      <td>0</td>\n",
       "      <td>0</td>\n",
       "      <td>2.0</td>\n",
       "    </tr>\n",
       "    <tr>\n",
       "      <th>3</th>\n",
       "      <td>0</td>\n",
       "      <td>0</td>\n",
       "      <td>1</td>\n",
       "      <td>0</td>\n",
       "      <td>1</td>\n",
       "      <td>0</td>\n",
       "      <td>0</td>\n",
       "      <td>1</td>\n",
       "      <td>0</td>\n",
       "      <td>0</td>\n",
       "      <td>...</td>\n",
       "      <td>73.0</td>\n",
       "      <td>9802</td>\n",
       "      <td>5</td>\n",
       "      <td>2006</td>\n",
       "      <td>2007</td>\n",
       "      <td>1444</td>\n",
       "      <td>7</td>\n",
       "      <td>0</td>\n",
       "      <td>100</td>\n",
       "      <td>2.5</td>\n",
       "    </tr>\n",
       "    <tr>\n",
       "      <th>4</th>\n",
       "      <td>0</td>\n",
       "      <td>0</td>\n",
       "      <td>1</td>\n",
       "      <td>0</td>\n",
       "      <td>1</td>\n",
       "      <td>0</td>\n",
       "      <td>0</td>\n",
       "      <td>0</td>\n",
       "      <td>0</td>\n",
       "      <td>0</td>\n",
       "      <td>...</td>\n",
       "      <td>82.0</td>\n",
       "      <td>14235</td>\n",
       "      <td>6</td>\n",
       "      <td>1900</td>\n",
       "      <td>1993</td>\n",
       "      <td>1445</td>\n",
       "      <td>6</td>\n",
       "      <td>0</td>\n",
       "      <td>0</td>\n",
       "      <td>2.0</td>\n",
       "    </tr>\n",
       "  </tbody>\n",
       "</table>\n",
       "<p>5 rows × 123 columns</p>\n",
       "</div>"
      ],
      "text/plain": [
       "   MS Zoning_FV  MS Zoning_RH  MS Zoning_RL  MS Zoning_RM  Street_Pave  \\\n",
       "0             0             0             1             0            1   \n",
       "1             0             0             1             0            1   \n",
       "2             0             0             1             0            1   \n",
       "3             0             0             1             0            1   \n",
       "4             0             0             1             0            1   \n",
       "\n",
       "   Lot Shape_IR2  Lot Shape_IR3  Lot Shape_Reg  Land Contour_HLS  \\\n",
       "0              0              0              0                 0   \n",
       "1              0              0              0                 0   \n",
       "2              0              0              1                 0   \n",
       "3              0              0              1                 0   \n",
       "4              0              0              0                 0   \n",
       "\n",
       "   Land Contour_Low  ...  Lot Frontage  Lot Area  Overall Qual  Year Built  \\\n",
       "0                 0  ...          79.6     13517             6        1976   \n",
       "1                 0  ...          43.0     11492             7        1996   \n",
       "2                 0  ...          68.0      7922             5        1953   \n",
       "3                 0  ...          73.0      9802             5        2006   \n",
       "4                 0  ...          82.0     14235             6        1900   \n",
       "\n",
       "   Year Remod/Add  Gr Liv Area  TotRms AbvGrd  Fireplaces  Wood Deck SF  \\\n",
       "0            2005         1479              6           0             0   \n",
       "1            1997         2122              8           1             0   \n",
       "2            2007         1057              5           0             0   \n",
       "3            2007         1444              7           0           100   \n",
       "4            1993         1445              6           0             0   \n",
       "\n",
       "   Total Bath  \n",
       "0         2.5  \n",
       "1         3.5  \n",
       "2         2.0  \n",
       "3         2.5  \n",
       "4         2.0  \n",
       "\n",
       "[5 rows x 123 columns]"
      ]
     },
     "execution_count": 3,
     "metadata": {},
     "output_type": "execute_result"
    }
   ],
   "source": [
    "df.head()"
   ]
  },
  {
   "cell_type": "code",
   "execution_count": 4,
   "metadata": {},
   "outputs": [
    {
     "data": {
      "text/html": [
       "<div>\n",
       "<style scoped>\n",
       "    .dataframe tbody tr th:only-of-type {\n",
       "        vertical-align: middle;\n",
       "    }\n",
       "\n",
       "    .dataframe tbody tr th {\n",
       "        vertical-align: top;\n",
       "    }\n",
       "\n",
       "    .dataframe thead th {\n",
       "        text-align: right;\n",
       "    }\n",
       "</style>\n",
       "<table border=\"1\" class=\"dataframe\">\n",
       "  <thead>\n",
       "    <tr style=\"text-align: right;\">\n",
       "      <th></th>\n",
       "      <th>MS Zoning_FV</th>\n",
       "      <th>MS Zoning_RH</th>\n",
       "      <th>MS Zoning_RL</th>\n",
       "      <th>MS Zoning_RM</th>\n",
       "      <th>Street_Pave</th>\n",
       "      <th>Lot Shape_IR2</th>\n",
       "      <th>Lot Shape_IR3</th>\n",
       "      <th>Lot Shape_Reg</th>\n",
       "      <th>Land Contour_HLS</th>\n",
       "      <th>Land Contour_Low</th>\n",
       "      <th>...</th>\n",
       "      <th>Lot Frontage</th>\n",
       "      <th>Lot Area</th>\n",
       "      <th>Overall Qual</th>\n",
       "      <th>Year Built</th>\n",
       "      <th>Year Remod/Add</th>\n",
       "      <th>Gr Liv Area</th>\n",
       "      <th>TotRms AbvGrd</th>\n",
       "      <th>Fireplaces</th>\n",
       "      <th>Wood Deck SF</th>\n",
       "      <th>Total Bath</th>\n",
       "    </tr>\n",
       "  </thead>\n",
       "  <tbody>\n",
       "    <tr>\n",
       "      <th>0</th>\n",
       "      <td>0</td>\n",
       "      <td>0</td>\n",
       "      <td>0</td>\n",
       "      <td>1</td>\n",
       "      <td>1</td>\n",
       "      <td>0</td>\n",
       "      <td>0</td>\n",
       "      <td>1</td>\n",
       "      <td>0</td>\n",
       "      <td>0</td>\n",
       "      <td>...</td>\n",
       "      <td>69.0</td>\n",
       "      <td>9142</td>\n",
       "      <td>6</td>\n",
       "      <td>1910</td>\n",
       "      <td>1950</td>\n",
       "      <td>1928</td>\n",
       "      <td>9</td>\n",
       "      <td>0</td>\n",
       "      <td>0</td>\n",
       "      <td>2.0</td>\n",
       "    </tr>\n",
       "    <tr>\n",
       "      <th>1</th>\n",
       "      <td>0</td>\n",
       "      <td>0</td>\n",
       "      <td>1</td>\n",
       "      <td>0</td>\n",
       "      <td>1</td>\n",
       "      <td>0</td>\n",
       "      <td>0</td>\n",
       "      <td>0</td>\n",
       "      <td>0</td>\n",
       "      <td>0</td>\n",
       "      <td>...</td>\n",
       "      <td>69.9</td>\n",
       "      <td>9662</td>\n",
       "      <td>5</td>\n",
       "      <td>1977</td>\n",
       "      <td>1977</td>\n",
       "      <td>1967</td>\n",
       "      <td>10</td>\n",
       "      <td>0</td>\n",
       "      <td>170</td>\n",
       "      <td>2.0</td>\n",
       "    </tr>\n",
       "    <tr>\n",
       "      <th>2</th>\n",
       "      <td>0</td>\n",
       "      <td>0</td>\n",
       "      <td>1</td>\n",
       "      <td>0</td>\n",
       "      <td>1</td>\n",
       "      <td>0</td>\n",
       "      <td>0</td>\n",
       "      <td>0</td>\n",
       "      <td>0</td>\n",
       "      <td>0</td>\n",
       "      <td>...</td>\n",
       "      <td>58.0</td>\n",
       "      <td>17104</td>\n",
       "      <td>7</td>\n",
       "      <td>2006</td>\n",
       "      <td>2006</td>\n",
       "      <td>1496</td>\n",
       "      <td>7</td>\n",
       "      <td>1</td>\n",
       "      <td>100</td>\n",
       "      <td>3.5</td>\n",
       "    </tr>\n",
       "    <tr>\n",
       "      <th>3</th>\n",
       "      <td>0</td>\n",
       "      <td>0</td>\n",
       "      <td>0</td>\n",
       "      <td>1</td>\n",
       "      <td>1</td>\n",
       "      <td>0</td>\n",
       "      <td>0</td>\n",
       "      <td>1</td>\n",
       "      <td>0</td>\n",
       "      <td>0</td>\n",
       "      <td>...</td>\n",
       "      <td>60.0</td>\n",
       "      <td>8520</td>\n",
       "      <td>5</td>\n",
       "      <td>1923</td>\n",
       "      <td>2006</td>\n",
       "      <td>968</td>\n",
       "      <td>5</td>\n",
       "      <td>0</td>\n",
       "      <td>0</td>\n",
       "      <td>1.0</td>\n",
       "    </tr>\n",
       "    <tr>\n",
       "      <th>4</th>\n",
       "      <td>0</td>\n",
       "      <td>0</td>\n",
       "      <td>1</td>\n",
       "      <td>0</td>\n",
       "      <td>1</td>\n",
       "      <td>0</td>\n",
       "      <td>0</td>\n",
       "      <td>0</td>\n",
       "      <td>0</td>\n",
       "      <td>0</td>\n",
       "      <td>...</td>\n",
       "      <td>69.3</td>\n",
       "      <td>9500</td>\n",
       "      <td>6</td>\n",
       "      <td>1963</td>\n",
       "      <td>1963</td>\n",
       "      <td>1394</td>\n",
       "      <td>6</td>\n",
       "      <td>2</td>\n",
       "      <td>0</td>\n",
       "      <td>2.5</td>\n",
       "    </tr>\n",
       "  </tbody>\n",
       "</table>\n",
       "<p>5 rows × 123 columns</p>\n",
       "</div>"
      ],
      "text/plain": [
       "   MS Zoning_FV  MS Zoning_RH  MS Zoning_RL  MS Zoning_RM  Street_Pave  \\\n",
       "0             0             0             0             1            1   \n",
       "1             0             0             1             0            1   \n",
       "2             0             0             1             0            1   \n",
       "3             0             0             0             1            1   \n",
       "4             0             0             1             0            1   \n",
       "\n",
       "   Lot Shape_IR2  Lot Shape_IR3  Lot Shape_Reg  Land Contour_HLS  \\\n",
       "0              0              0              1                 0   \n",
       "1              0              0              0                 0   \n",
       "2              0              0              0                 0   \n",
       "3              0              0              1                 0   \n",
       "4              0              0              0                 0   \n",
       "\n",
       "   Land Contour_Low  ...  Lot Frontage  Lot Area  Overall Qual  Year Built  \\\n",
       "0                 0  ...          69.0      9142             6        1910   \n",
       "1                 0  ...          69.9      9662             5        1977   \n",
       "2                 0  ...          58.0     17104             7        2006   \n",
       "3                 0  ...          60.0      8520             5        1923   \n",
       "4                 0  ...          69.3      9500             6        1963   \n",
       "\n",
       "   Year Remod/Add  Gr Liv Area  TotRms AbvGrd  Fireplaces  Wood Deck SF  \\\n",
       "0            1950         1928              9           0             0   \n",
       "1            1977         1967             10           0           170   \n",
       "2            2006         1496              7           1           100   \n",
       "3            2006          968              5           0             0   \n",
       "4            1963         1394              6           2             0   \n",
       "\n",
       "   Total Bath  \n",
       "0         2.0  \n",
       "1         2.0  \n",
       "2         3.5  \n",
       "3         1.0  \n",
       "4         2.5  \n",
       "\n",
       "[5 rows x 123 columns]"
      ]
     },
     "execution_count": 4,
     "metadata": {},
     "output_type": "execute_result"
    }
   ],
   "source": [
    "dftest.head()"
   ]
  },
  {
   "cell_type": "code",
   "execution_count": 5,
   "metadata": {},
   "outputs": [
    {
     "name": "stdout",
     "output_type": "stream",
     "text": [
      "(2042, 123)\n",
      "(874, 123)\n",
      "(2042, 57)\n",
      "(874, 56)\n"
     ]
    }
   ],
   "source": [
    "print(df.shape)\n",
    "print(dftest.shape)\n",
    "print(train.shape)\n",
    "print(test.shape)"
   ]
  },
  {
   "cell_type": "markdown",
   "metadata": {},
   "source": [
    "### Base Model"
   ]
  },
  {
   "cell_type": "code",
   "execution_count": 6,
   "metadata": {},
   "outputs": [
    {
     "data": {
      "text/plain": [
       "181249.73653281096"
      ]
     },
     "execution_count": 6,
     "metadata": {},
     "output_type": "execute_result"
    }
   ],
   "source": [
    "base_model = train[\"SalePrice\"].mean()\n",
    "base_model"
   ]
  },
  {
   "cell_type": "markdown",
   "metadata": {},
   "source": [
    "### Model Prep: Create our features matrix (X) and target vector (y)"
   ]
  },
  {
   "cell_type": "code",
   "execution_count": 7,
   "metadata": {},
   "outputs": [],
   "source": [
    "# Define X and y\n",
    "X = df\n",
    "y = train['SalePrice']\n",
    "X_val = dftest"
   ]
  },
  {
   "cell_type": "code",
   "execution_count": 8,
   "metadata": {},
   "outputs": [
    {
     "data": {
      "text/plain": [
       "(2042, 123)"
      ]
     },
     "execution_count": 8,
     "metadata": {},
     "output_type": "execute_result"
    }
   ],
   "source": [
    "X.shape"
   ]
  },
  {
   "cell_type": "code",
   "execution_count": 9,
   "metadata": {},
   "outputs": [
    {
     "data": {
      "text/plain": [
       "(2042, 57)"
      ]
     },
     "execution_count": 9,
     "metadata": {},
     "output_type": "execute_result"
    }
   ],
   "source": [
    "train.shape"
   ]
  },
  {
   "cell_type": "code",
   "execution_count": 10,
   "metadata": {},
   "outputs": [
    {
     "data": {
      "text/plain": [
       "Index(['MS Zoning_FV', 'MS Zoning_RH', 'MS Zoning_RL', 'MS Zoning_RM',\n",
       "       'Street_Pave', 'Lot Shape_IR2', 'Lot Shape_IR3', 'Lot Shape_Reg',\n",
       "       'Land Contour_HLS', 'Land Contour_Low',\n",
       "       ...\n",
       "       'Lot Frontage', 'Lot Area', 'Overall Qual', 'Year Built',\n",
       "       'Year Remod/Add', 'Gr Liv Area', 'TotRms AbvGrd', 'Fireplaces',\n",
       "       'Wood Deck SF', 'Total Bath'],\n",
       "      dtype='object', length=123)"
      ]
     },
     "execution_count": 10,
     "metadata": {},
     "output_type": "execute_result"
    }
   ],
   "source": [
    "df.columns"
   ]
  },
  {
   "cell_type": "markdown",
   "metadata": {},
   "source": [
    "### Model Prep: Train/Test split"
   ]
  },
  {
   "cell_type": "code",
   "execution_count": 11,
   "metadata": {},
   "outputs": [],
   "source": [
    "X_train, X_test, y_train, y_test = train_test_split(X, y, test_size=0.2, random_state=42)"
   ]
  },
  {
   "cell_type": "markdown",
   "metadata": {},
   "source": [
    "### Standard Scaler"
   ]
  },
  {
   "cell_type": "code",
   "execution_count": 12,
   "metadata": {},
   "outputs": [],
   "source": [
    "sc = StandardScaler()\n",
    "X_train_scaled = sc.fit_transform(X_train)\n",
    "X_test_scaled = sc.transform(X_test)"
   ]
  },
  {
   "cell_type": "code",
   "execution_count": 13,
   "metadata": {},
   "outputs": [
    {
     "data": {
      "text/plain": [
       "((2042, 123), (2042,), (409, 123))"
      ]
     },
     "execution_count": 13,
     "metadata": {},
     "output_type": "execute_result"
    }
   ],
   "source": [
    "X.shape, y.shape,X_test_scaled.shape"
   ]
  },
  {
   "cell_type": "markdown",
   "metadata": {},
   "source": [
    "### Automated Feature Selection"
   ]
  },
  {
   "cell_type": "code",
   "execution_count": 14,
   "metadata": {},
   "outputs": [],
   "source": [
    "from sklearn.feature_selection import SelectFromModel\n",
    "from sklearn.ensemble import RandomForestRegressor\n",
    "\n",
    "select = SelectFromModel(RandomForestRegressor(n_estimators=250, random_state=42))\n",
    "select.fit(X_train, y_train)\n",
    "X_train_ranfor = select.transform(X_train)\n",
    "X_test_ranfor = select.transform(X_test)"
   ]
  },
  {
   "cell_type": "markdown",
   "metadata": {},
   "source": [
    "### Model Prep: Instantiate our models\n",
    "\n",
    "We'll be evaluating `LinearRegression`, `LassoCV` and `RidgeCV`, so we'll need to create instances of all three models."
   ]
  },
  {
   "cell_type": "code",
   "execution_count": 15,
   "metadata": {},
   "outputs": [],
   "source": [
    "lr = LinearRegression()"
   ]
  },
  {
   "cell_type": "code",
   "execution_count": 16,
   "metadata": {},
   "outputs": [],
   "source": [
    "lasso = LassoCV(n_alphas=200)"
   ]
  },
  {
   "cell_type": "code",
   "execution_count": 17,
   "metadata": {},
   "outputs": [],
   "source": [
    "ridge = RidgeCV(alphas=np.linspace(.1, 10, 100))"
   ]
  },
  {
   "cell_type": "markdown",
   "metadata": {},
   "source": [
    "## (A) Running models Unscaled\n",
    "We will first run the 3 models using the default X_train"
   ]
  },
  {
   "cell_type": "markdown",
   "metadata": {},
   "source": [
    "### (1) Linear Regression"
   ]
  },
  {
   "cell_type": "code",
   "execution_count": 18,
   "metadata": {},
   "outputs": [
    {
     "data": {
      "text/plain": [
       "0.9081204288413062"
      ]
     },
     "execution_count": 18,
     "metadata": {},
     "output_type": "execute_result"
    }
   ],
   "source": [
    "#Fit the model\n",
    "lr = LinearRegression()\n",
    "\n",
    "lr.fit(X_train, y_train)\n",
    "lr.score(X_train, y_train)"
   ]
  },
  {
   "cell_type": "code",
   "execution_count": 19,
   "metadata": {},
   "outputs": [
    {
     "data": {
      "text/plain": [
       "0.9009541160098244"
      ]
     },
     "execution_count": 19,
     "metadata": {},
     "output_type": "execute_result"
    }
   ],
   "source": [
    "# predict on test set\n",
    "pred_lr = lr.predict(X_test)\n",
    "lr_r2_score = metrics.r2_score(y_test, pred_lr)\n",
    "lr_r2_score"
   ]
  },
  {
   "cell_type": "code",
   "execution_count": 20,
   "metadata": {},
   "outputs": [
    {
     "name": "stdout",
     "output_type": "stream",
     "text": [
      "Lin Reg Train Score: 0.9081204288413062\n",
      "Lin Reg Test Score: 0.9009541160098244\n"
     ]
    },
    {
     "data": {
      "image/png": "[encoded data removed]",
      "text/plain": [
       "<Figure size 432x288 with 1 Axes>"
      ]
     },
     "metadata": {
      "needs_background": "light"
     },
     "output_type": "display_data"
    }
   ],
   "source": [
    "## LR model\n",
    "plt.scatter(pred_lr, y_test)\n",
    "plt.xlabel(\"Predictions\")\n",
    "plt.ylabel(\"Actual Value\")\n",
    "plt.title('Linear Regression Model')\n",
    "\n",
    "print(\"Lin Reg Train Score:\", lr.score(X_train, y_train))\n",
    "print(\"Lin Reg Test Score:\", lr.score(X_test, y_test))\n"
   ]
  },
  {
   "cell_type": "markdown",
   "metadata": {},
   "source": [
    "### (2) Lasso Regression"
   ]
  },
  {
   "cell_type": "code",
   "execution_count": 21,
   "metadata": {},
   "outputs": [],
   "source": [
    "# Set up a list of Lasso alphas to check.\n",
    "lasso = LassoCV(n_alphas=200)\n",
    "l_alphas = np.logspace(-3, 0, 100)\n",
    "\n",
    "# Cross-validate over our list of Lasso alphas.\n",
    "lasso_cv = LassoCV(alphas=l_alphas, cv=5, max_iter=50000)\n",
    "\n",
    "# Fit model using best ridge alpha!\n",
    "lasso_cv.fit(X_train, y_train);"
   ]
  },
  {
   "cell_type": "code",
   "execution_count": 22,
   "metadata": {},
   "outputs": [
    {
     "data": {
      "text/plain": [
       "1.0"
      ]
     },
     "execution_count": 22,
     "metadata": {},
     "output_type": "execute_result"
    }
   ],
   "source": [
    "# Here is the optimal value of alpha\n",
    "lasso_cv.alpha_"
   ]
  },
  {
   "cell_type": "code",
   "execution_count": 23,
   "metadata": {},
   "outputs": [],
   "source": [
    "# Predicting lasso on test set\n",
    "pred_las = lasso_cv.predict(X_test)"
   ]
  },
  {
   "cell_type": "code",
   "execution_count": 24,
   "metadata": {},
   "outputs": [
    {
     "name": "stdout",
     "output_type": "stream",
     "text": [
      "Lasso Train Score: 0.9081107994555287\n",
      "Lasso Test Score: 0.9011529575028208\n"
     ]
    },
    {
     "data": {
      "image/png": "[encoded data removed]",
      "text/plain": [
       "<Figure size 432x288 with 1 Axes>"
      ]
     },
     "metadata": {
      "needs_background": "light"
     },
     "output_type": "display_data"
    }
   ],
   "source": [
    "plt.scatter(pred_las, y_test, color='r')\n",
    "plt.xlabel(\"Predictions\")\n",
    "plt.ylabel(\"Actual Value\")\n",
    "plt.title('Lasso Regression Model')\n",
    "\n",
    "print(\"Lasso Train Score:\", lasso_cv.score(X_train, y_train))\n",
    "print(\"Lasso Test Score:\", lasso_cv.score(X_test, y_test))"
   ]
  },
  {
   "cell_type": "markdown",
   "metadata": {},
   "source": [
    "### (3) Ridge Regression"
   ]
  },
  {
   "cell_type": "code",
   "execution_count": 25,
   "metadata": {},
   "outputs": [
    {
     "name": "stdout",
     "output_type": "stream",
     "text": [
      "0.9027524605955685\n",
      "0.9012913236272994\n"
     ]
    }
   ],
   "source": [
    "# Instantiate.\n",
    "ridge_model = Ridge(alpha=10)\n",
    "\n",
    "# Fit.\n",
    "ridge_model.fit(X_train, y_train)\n",
    "\n",
    "# Evaluate model using R2.\n",
    "print(ridge_model.score(X_train, y_train))\n",
    "print(ridge_model.score(X_test, y_test))"
   ]
  },
  {
   "cell_type": "code",
   "execution_count": 26,
   "metadata": {},
   "outputs": [],
   "source": [
    "# Set up a list of ridge alphas to check.\n",
    "r_alphas = np.logspace(0, 5, 100)\n",
    "\n",
    "# Cross-validate over our list of ridge alphas.\n",
    "ridge_cv = RidgeCV(alphas=r_alphas, scoring='r2', cv=5)\n",
    "\n",
    "# Fit model using best ridge alpha!\n",
    "ridge_cv = ridge_model.fit(X_train, y_train)"
   ]
  },
  {
   "cell_type": "code",
   "execution_count": 27,
   "metadata": {},
   "outputs": [
    {
     "data": {
      "text/plain": [
       "10"
      ]
     },
     "execution_count": 27,
     "metadata": {},
     "output_type": "execute_result"
    }
   ],
   "source": [
    "# Here is the optimal value of alpha\n",
    "ridge_cv.alpha"
   ]
  },
  {
   "cell_type": "code",
   "execution_count": 28,
   "metadata": {},
   "outputs": [],
   "source": [
    "# Predicting ridge on test set\n",
    "pred_rid = ridge_cv.predict(X_test)"
   ]
  },
  {
   "cell_type": "code",
   "execution_count": 29,
   "metadata": {},
   "outputs": [
    {
     "name": "stdout",
     "output_type": "stream",
     "text": [
      "Ridge Train Score: 0.9027524605955685\n",
      "Ridge Test Score: 0.9012913236272994\n"
     ]
    },
    {
     "data": {
      "image/png": "[encoded data removed]",
      "text/plain": [
       "<Figure size 432x288 with 1 Axes>"
      ]
     },
     "metadata": {
      "needs_background": "light"
     },
     "output_type": "display_data"
    }
   ],
   "source": [
    "plt.scatter(pred_rid, y_test, color='m')\n",
    "plt.xlabel(\"Predictions\")\n",
    "plt.ylabel(\"Actual Value\")\n",
    "plt.title('Ridge Regression Model')\n",
    "\n",
    "print(\"Ridge Train Score:\", ridge_cv.score(X_train, y_train))\n",
    "print(\"Ridge Test Score:\", ridge_cv.score(X_test, y_test))"
   ]
  },
  {
   "cell_type": "markdown",
   "metadata": {},
   "source": [
    "### Running the Cross Validation"
   ]
  },
  {
   "cell_type": "markdown",
   "metadata": {},
   "source": [
    "###  Linear Regression"
   ]
  },
  {
   "cell_type": "code",
   "execution_count": 30,
   "metadata": {},
   "outputs": [
    {
     "data": {
      "text/plain": [
       "0.8781372677546266"
      ]
     },
     "execution_count": 30,
     "metadata": {},
     "output_type": "execute_result"
    }
   ],
   "source": [
    "lr_scores = cross_val_score(lr, X_train, y_train, cv=3)\n",
    "lr_scores.mean()"
   ]
  },
  {
   "cell_type": "markdown",
   "metadata": {},
   "source": [
    "###  Lasso Regression"
   ]
  },
  {
   "cell_type": "code",
   "execution_count": 31,
   "metadata": {},
   "outputs": [
    {
     "data": {
      "text/plain": [
       "0.7007730690836301"
      ]
     },
     "execution_count": 31,
     "metadata": {},
     "output_type": "execute_result"
    }
   ],
   "source": [
    "lasso_scores = cross_val_score(lasso, X_train, y_train, cv=3)\n",
    "lasso_scores.mean()"
   ]
  },
  {
   "cell_type": "markdown",
   "metadata": {},
   "source": [
    "###  Ridge Regression"
   ]
  },
  {
   "cell_type": "code",
   "execution_count": 32,
   "metadata": {},
   "outputs": [
    {
     "data": {
      "text/plain": [
       "0.8853995990447247"
      ]
     },
     "execution_count": 32,
     "metadata": {},
     "output_type": "execute_result"
    }
   ],
   "source": [
    "ridge_scores = cross_val_score(ridge, X_train, y_train, cv=3)\n",
    "ridge_scores.mean()"
   ]
  },
  {
   "cell_type": "markdown",
   "metadata": {},
   "source": [
    "Ridge Regression seems to be doing well when using the default X_train. What if we use use the scaled X instead?"
   ]
  },
  {
   "cell_type": "markdown",
   "metadata": {},
   "source": [
    "## (B) Running models with Standard Scaler"
   ]
  },
  {
   "cell_type": "markdown",
   "metadata": {},
   "source": [
    "### (1) Linear Regression"
   ]
  },
  {
   "cell_type": "code",
   "execution_count": 33,
   "metadata": {},
   "outputs": [
    {
     "data": {
      "text/plain": [
       "-620505790081844.2"
      ]
     },
     "execution_count": 33,
     "metadata": {},
     "output_type": "execute_result"
    }
   ],
   "source": [
    "#Fit the model\n",
    "lr = LinearRegression()\n",
    "\n",
    "lr.fit(X_train_scaled, y_train)\n",
    "lr.score(X_train_scaled, y_train)\n",
    "\n",
    "# predict on test set\n",
    "pred_lr = lr.predict(X_test_scaled)\n",
    "lr_r2_score = metrics.r2_score(y_test, pred_lr)\n",
    "lr_r2_score"
   ]
  },
  {
   "cell_type": "code",
   "execution_count": 34,
   "metadata": {},
   "outputs": [
    {
     "name": "stdout",
     "output_type": "stream",
     "text": [
      "Lin Reg Train Score: 0.908120161387676\n",
      "Lin Reg Test Score: -620505790081844.2\n"
     ]
    },
    {
     "data": {
      "image/png": "[encoded data removed]",
      "text/plain": [
       "<Figure size 432x288 with 1 Axes>"
      ]
     },
     "metadata": {
      "needs_background": "light"
     },
     "output_type": "display_data"
    }
   ],
   "source": [
    "## LR model\n",
    "plt.scatter(pred_lr, y_test)\n",
    "plt.xlabel(\"Predictions\")\n",
    "plt.ylabel(\"Actual Value\")\n",
    "plt.title('Linear Regression Model (scaled)')\n",
    "\n",
    "print(\"Lin Reg Train Score:\", lr.score(X_train_scaled, y_train))\n",
    "print(\"Lin Reg Test Score:\", lr.score(X_test_scaled, y_test))"
   ]
  },
  {
   "cell_type": "markdown",
   "metadata": {},
   "source": [
    "### (2) Lasso Regression"
   ]
  },
  {
   "cell_type": "code",
   "execution_count": 35,
   "metadata": {},
   "outputs": [
    {
     "data": {
      "text/plain": [
       "1.0"
      ]
     },
     "execution_count": 35,
     "metadata": {},
     "output_type": "execute_result"
    }
   ],
   "source": [
    "# Set up a list of Lasso alphas to check.\n",
    "l_alphas = np.logspace(-3, 0, 100)\n",
    "\n",
    "# Cross-validate over our list of Lasso alphas.\n",
    "lasso_cv = LassoCV(alphas=l_alphas, cv=5, max_iter=50000)\n",
    "\n",
    "# Fit model using best ridge alpha!\n",
    "lasso_cv.fit(X_train_scaled, y_train);\n",
    "\n",
    "# Here is the optimal value of alpha\n",
    "lasso_cv.alpha_"
   ]
  },
  {
   "cell_type": "code",
   "execution_count": 36,
   "metadata": {},
   "outputs": [],
   "source": [
    "# Predicting lasso on test set\n",
    "pred_las = lasso_cv.predict(X_test_scaled)"
   ]
  },
  {
   "cell_type": "code",
   "execution_count": 37,
   "metadata": {},
   "outputs": [
    {
     "name": "stdout",
     "output_type": "stream",
     "text": [
      "Lasso Train Score: 0.9081199658424958\n",
      "Lasso Test Score: 0.9009540624559982\n"
     ]
    },
    {
     "data": {
      "image/png": "[encoded data removed]",
      "text/plain": [
       "<Figure size 432x288 with 1 Axes>"
      ]
     },
     "metadata": {
      "needs_background": "light"
     },
     "output_type": "display_data"
    }
   ],
   "source": [
    "plt.scatter(pred_las, y_test, color='r')\n",
    "plt.xlabel(\"Predictions\")\n",
    "plt.ylabel(\"Actual Value\")\n",
    "plt.title('Lasso Regression Model (scaled)')\n",
    "\n",
    "print(\"Lasso Train Score:\", lasso_cv.score(X_train_scaled, y_train))\n",
    "print(\"Lasso Test Score:\", lasso_cv.score(X_test_scaled, y_test))"
   ]
  },
  {
   "cell_type": "markdown",
   "metadata": {},
   "source": [
    "### (3) Ridge Regression"
   ]
  },
  {
   "cell_type": "code",
   "execution_count": 38,
   "metadata": {},
   "outputs": [
    {
     "name": "stdout",
     "output_type": "stream",
     "text": [
      "0.9079608386800873\n",
      "0.9010112379336477\n"
     ]
    }
   ],
   "source": [
    "# Instantiate.\n",
    "ridge_model = Ridge(alpha=10)\n",
    "\n",
    "# Fit.\n",
    "ridge_model.fit(X_train_scaled, y_train)\n",
    "\n",
    "# Evaluate model using R2.\n",
    "print(ridge_model.score(X_train_scaled, y_train))\n",
    "print(ridge_model.score(X_test_scaled, y_test))"
   ]
  },
  {
   "cell_type": "code",
   "execution_count": 39,
   "metadata": {},
   "outputs": [
    {
     "data": {
      "text/plain": [
       "10"
      ]
     },
     "execution_count": 39,
     "metadata": {},
     "output_type": "execute_result"
    }
   ],
   "source": [
    "# Set up a list of ridge alphas to check.\n",
    "r_alphas = np.logspace(0, 5, 100)\n",
    "\n",
    "# Cross-validate over our list of ridge alphas.\n",
    "ridge_cv = RidgeCV(alphas=r_alphas, scoring='r2', cv=5)\n",
    "\n",
    "# Fit model using best ridge alpha!\n",
    "ridge_cv = ridge_model.fit(X_train_scaled, y_train)\n",
    "\n",
    "# Here is the optimal value of alpha\n",
    "ridge_cv.alpha"
   ]
  },
  {
   "cell_type": "code",
   "execution_count": 40,
   "metadata": {},
   "outputs": [],
   "source": [
    "# Predicting ridge on test set\n",
    "pred_rid = ridge_cv.predict(X_test_scaled)"
   ]
  },
  {
   "cell_type": "code",
   "execution_count": 41,
   "metadata": {},
   "outputs": [
    {
     "name": "stdout",
     "output_type": "stream",
     "text": [
      "Ridge Train Score: 0.9079608386800873\n",
      "Ridge Test Score: 0.9010112379336477\n"
     ]
    },
    {
     "data": {
      "image/png": "[encoded data removed]",
      "text/plain": [
       "<Figure size 432x288 with 1 Axes>"
      ]
     },
     "metadata": {
      "needs_background": "light"
     },
     "output_type": "display_data"
    }
   ],
   "source": [
    "plt.scatter(pred_rid, y_test, color='m')\n",
    "plt.xlabel(\"Predictions\")\n",
    "plt.ylabel(\"Actual Value\")\n",
    "plt.title('Ridge Regression Model (scaled)')\n",
    "\n",
    "print(\"Ridge Train Score:\", ridge_cv.score(X_train_scaled, y_train))\n",
    "print(\"Ridge Test Score:\", ridge_cv.score(X_test_scaled, y_test))"
   ]
  },
  {
   "cell_type": "markdown",
   "metadata": {},
   "source": [
    "### Running the Cross Validation"
   ]
  },
  {
   "cell_type": "code",
   "execution_count": 42,
   "metadata": {},
   "outputs": [
    {
     "data": {
      "text/plain": [
       "-2.559550170438532e+25"
      ]
     },
     "execution_count": 42,
     "metadata": {},
     "output_type": "execute_result"
    }
   ],
   "source": [
    "lr_scores = cross_val_score(lr, X_train_scaled, y_train, cv=3)\n",
    "lr_scores.mean()"
   ]
  },
  {
   "cell_type": "code",
   "execution_count": 43,
   "metadata": {},
   "outputs": [
    {
     "data": {
      "text/plain": [
       "0.8817313734495613"
      ]
     },
     "execution_count": 43,
     "metadata": {},
     "output_type": "execute_result"
    }
   ],
   "source": [
    "lasso_scores = cross_val_score(lasso, X_train_scaled, y_train, cv=3)\n",
    "lasso_scores.mean()"
   ]
  },
  {
   "cell_type": "code",
   "execution_count": 44,
   "metadata": {},
   "outputs": [
    {
     "data": {
      "text/plain": [
       "0.8798958720332593"
      ]
     },
     "execution_count": 44,
     "metadata": {},
     "output_type": "execute_result"
    }
   ],
   "source": [
    "ridge_scores = cross_val_score(ridge, X_train_scaled, y_train, cv=3)\n",
    "ridge_scores.mean()"
   ]
  },
  {
   "cell_type": "markdown",
   "metadata": {},
   "source": [
    "Lasso model performed the best with standard scaling. Lastly we are going to use an automated feature selection to predict the test set."
   ]
  },
  {
   "cell_type": "markdown",
   "metadata": {},
   "source": [
    "## (C) Using Automated Feature Selection"
   ]
  },
  {
   "cell_type": "markdown",
   "metadata": {},
   "source": [
    "### (1) Linear Regression"
   ]
  },
  {
   "cell_type": "code",
   "execution_count": 45,
   "metadata": {},
   "outputs": [
    {
     "data": {
      "text/plain": [
       "0.8283277719855183"
      ]
     },
     "execution_count": 45,
     "metadata": {},
     "output_type": "execute_result"
    }
   ],
   "source": [
    "#Fit the model\n",
    "lr = LinearRegression()\n",
    "\n",
    "lr.fit(X_train_ranfor, y_train)\n",
    "lr.score(X_train_ranfor, y_train)\n",
    "\n",
    "# predict on test set\n",
    "pred_lr = lr.predict(X_test_ranfor)\n",
    "lr_r2_score = metrics.r2_score(y_test, pred_lr)\n",
    "lr_r2_score"
   ]
  },
  {
   "cell_type": "code",
   "execution_count": 46,
   "metadata": {},
   "outputs": [
    {
     "name": "stdout",
     "output_type": "stream",
     "text": [
      "Lin Reg Train Score: 0.8075491626713365\n",
      "Lin Reg Test Score: 0.8283277719855183\n"
     ]
    },
    {
     "data": {
      "image/png": "[encoded data removed]",
      "text/plain": [
       "<Figure size 432x288 with 1 Axes>"
      ]
     },
     "metadata": {
      "needs_background": "light"
     },
     "output_type": "display_data"
    }
   ],
   "source": [
    "## LR model\n",
    "plt.scatter(pred_lr, y_test)\n",
    "plt.xlabel(\"Predictions\")\n",
    "plt.ylabel(\"Actual Value\")\n",
    "plt.title('Linear Regression Model (AFS)')\n",
    "\n",
    "print(\"Lin Reg Train Score:\", lr.score(X_train_ranfor, y_train))\n",
    "print(\"Lin Reg Test Score:\", lr.score(X_test_ranfor, y_test))"
   ]
  },
  {
   "cell_type": "markdown",
   "metadata": {},
   "source": [
    "### (2) Lasso Regression"
   ]
  },
  {
   "cell_type": "code",
   "execution_count": 47,
   "metadata": {},
   "outputs": [
    {
     "data": {
      "text/plain": [
       "0.001"
      ]
     },
     "execution_count": 47,
     "metadata": {},
     "output_type": "execute_result"
    }
   ],
   "source": [
    "# Set up a list of Lasso alphas to check.\n",
    "l_alphas = np.logspace(-3, 0, 100)\n",
    "\n",
    "# Cross-validate over our list of Lasso alphas.\n",
    "lasso_cv = LassoCV(alphas=l_alphas, cv=5, max_iter=50000)\n",
    "\n",
    "# Fit model using best ridge alpha!\n",
    "lasso_cv.fit(X_train_ranfor, y_train);\n",
    "\n",
    "# Here is the optimal value of alpha\n",
    "lasso_cv.alpha_"
   ]
  },
  {
   "cell_type": "code",
   "execution_count": 48,
   "metadata": {},
   "outputs": [],
   "source": [
    "# Predicting lasso on test set\n",
    "pred_las = lasso_cv.predict(X_test_ranfor)"
   ]
  },
  {
   "cell_type": "code",
   "execution_count": 49,
   "metadata": {},
   "outputs": [
    {
     "name": "stdout",
     "output_type": "stream",
     "text": [
      "Lasso Train Score: 0.8075491626713354\n",
      "Lasso Test Score: 0.8283277707468075\n"
     ]
    },
    {
     "data": {
      "image/png": "[encoded data removed]",
      "text/plain": [
       "<Figure size 432x288 with 1 Axes>"
      ]
     },
     "metadata": {
      "needs_background": "light"
     },
     "output_type": "display_data"
    }
   ],
   "source": [
    "plt.scatter(pred_las, y_test, color='r')\n",
    "plt.xlabel(\"Predictions\")\n",
    "plt.ylabel(\"Actual Value\")\n",
    "plt.title('Lasso Regression Model (AFS)')\n",
    "\n",
    "print(\"Lasso Train Score:\", lasso_cv.score(X_train_ranfor, y_train))\n",
    "print(\"Lasso Test Score:\", lasso_cv.score(X_test_ranfor, y_test))"
   ]
  },
  {
   "cell_type": "markdown",
   "metadata": {},
   "source": [
    "### (3) Ridge Regression"
   ]
  },
  {
   "cell_type": "code",
   "execution_count": 50,
   "metadata": {},
   "outputs": [
    {
     "name": "stdout",
     "output_type": "stream",
     "text": [
      "0.8075438179019403\n",
      "0.8282875509014245\n"
     ]
    }
   ],
   "source": [
    "# Instantiate.\n",
    "ridge_model = Ridge(alpha=10)\n",
    "\n",
    "# Fit.\n",
    "ridge_model.fit(X_train_ranfor, y_train)\n",
    "\n",
    "# Evaluate model using R2.\n",
    "print(ridge_model.score(X_train_ranfor, y_train))\n",
    "print(ridge_model.score(X_test_ranfor, y_test))"
   ]
  },
  {
   "cell_type": "code",
   "execution_count": 51,
   "metadata": {},
   "outputs": [
    {
     "data": {
      "text/plain": [
       "10"
      ]
     },
     "execution_count": 51,
     "metadata": {},
     "output_type": "execute_result"
    }
   ],
   "source": [
    "# Set up a list of ridge alphas to check.\n",
    "r_alphas = np.logspace(0, 5, 100)\n",
    "\n",
    "# Cross-validate over our list of ridge alphas.\n",
    "ridge_cv = RidgeCV(alphas=r_alphas, scoring='r2', cv=5)\n",
    "\n",
    "# Fit model using best ridge alpha!\n",
    "ridge_cv = ridge_model.fit(X_train_ranfor, y_train)\n",
    "\n",
    "# Here is the optimal value of alpha\n",
    "ridge_cv.alpha"
   ]
  },
  {
   "cell_type": "code",
   "execution_count": 52,
   "metadata": {},
   "outputs": [],
   "source": [
    "# Predicting ridge on test set\n",
    "pred_rid = ridge_cv.predict(X_test_ranfor)"
   ]
  },
  {
   "cell_type": "code",
   "execution_count": 53,
   "metadata": {},
   "outputs": [
    {
     "name": "stdout",
     "output_type": "stream",
     "text": [
      "Ridge Train Score: 0.8075438179019403\n",
      "Ridge Test Score: 0.8282875509014245\n"
     ]
    },
    {
     "data": {
      "image/png": "[encoded data removed]",
      "text/plain": [
       "<Figure size 432x288 with 1 Axes>"
      ]
     },
     "metadata": {
      "needs_background": "light"
     },
     "output_type": "display_data"
    }
   ],
   "source": [
    "plt.scatter(pred_rid, y_test, color='m')\n",
    "plt.xlabel(\"Predictions\")\n",
    "plt.ylabel(\"Actual Value\")\n",
    "plt.title('Ridge Regression Model (AFS)')\n",
    "\n",
    "print(\"Ridge Train Score:\", ridge_cv.score(X_train_ranfor, y_train))\n",
    "print(\"Ridge Test Score:\", ridge_cv.score(X_test_ranfor, y_test))"
   ]
  },
  {
   "cell_type": "markdown",
   "metadata": {},
   "source": [
    "### Running the Cross Validation"
   ]
  },
  {
   "cell_type": "code",
   "execution_count": 54,
   "metadata": {},
   "outputs": [
    {
     "data": {
      "text/plain": [
       "0.8026015735608558"
      ]
     },
     "execution_count": 54,
     "metadata": {},
     "output_type": "execute_result"
    }
   ],
   "source": [
    "lr_scores = cross_val_score(lr, X_train_ranfor, y_train, cv=3)\n",
    "lr_scores.mean()"
   ]
  },
  {
   "cell_type": "code",
   "execution_count": 55,
   "metadata": {},
   "outputs": [
    {
     "data": {
      "text/plain": [
       "0.6963547248287428"
      ]
     },
     "execution_count": 55,
     "metadata": {},
     "output_type": "execute_result"
    }
   ],
   "source": [
    "lasso_scores = cross_val_score(lasso, X_train_ranfor, y_train, cv=3)\n",
    "lasso_scores.mean()"
   ]
  },
  {
   "cell_type": "code",
   "execution_count": 56,
   "metadata": {},
   "outputs": [
    {
     "data": {
      "text/plain": [
       "0.8026120790909581"
      ]
     },
     "execution_count": 56,
     "metadata": {},
     "output_type": "execute_result"
    }
   ],
   "source": [
    "ridge_scores = cross_val_score(ridge, X_train_ranfor, y_train, cv=3)\n",
    "ridge_scores.mean()"
   ]
  },
  {
   "cell_type": "markdown",
   "metadata": {},
   "source": [
    "There we go! Based on the 3 types of comparison used, Ridge regression has the best accuracy. Hence we shall proceed to evaluate Ridge regression."
   ]
  },
  {
   "cell_type": "markdown",
   "metadata": {},
   "source": [
    "## Evaluating the Best Model\n",
    "---\n",
    "\n",
    "`RidgeCV` seems to be doing the best, so let's move forward with that model. Fit the model to the training data, and evaluate the training and test scores below."
   ]
  },
  {
   "cell_type": "code",
   "execution_count": 57,
   "metadata": {},
   "outputs": [
    {
     "data": {
      "text/plain": [
       "RidgeCV(alphas=array([ 0.1,  0.2,  0.3,  0.4,  0.5,  0.6,  0.7,  0.8,  0.9,  1. ,  1.1,\n",
       "        1.2,  1.3,  1.4,  1.5,  1.6,  1.7,  1.8,  1.9,  2. ,  2.1,  2.2,\n",
       "        2.3,  2.4,  2.5,  2.6,  2.7,  2.8,  2.9,  3. ,  3.1,  3.2,  3.3,\n",
       "        3.4,  3.5,  3.6,  3.7,  3.8,  3.9,  4. ,  4.1,  4.2,  4.3,  4.4,\n",
       "        4.5,  4.6,  4.7,  4.8,  4.9,  5. ,  5.1,  5.2,  5.3,  5.4,  5.5,\n",
       "        5.6,  5.7,  5.8,  5.9,  6. ,  6.1,  6.2,  6.3,  6.4,  6.5,  6.6,\n",
       "        6.7,  6.8,  6.9,  7. ,  7.1,  7.2,  7.3,  7.4,  7.5,  7.6,  7.7,\n",
       "        7.8,  7.9,  8. ,  8.1,  8.2,  8.3,  8.4,  8.5,  8.6,  8.7,  8.8,\n",
       "        8.9,  9. ,  9.1,  9.2,  9.3,  9.4,  9.5,  9.6,  9.7,  9.8,  9.9,\n",
       "       10. ]))"
      ]
     },
     "execution_count": 57,
     "metadata": {},
     "output_type": "execute_result"
    }
   ],
   "source": [
    "ridge.fit(X_train, y_train)"
   ]
  },
  {
   "cell_type": "code",
   "execution_count": 58,
   "metadata": {},
   "outputs": [
    {
     "data": {
      "text/plain": [
       "array([1.75234199e+02, 2.00907164e+00, 2.42494934e+04, 3.48988999e+02,\n",
       "       3.23963082e+02, 4.60476859e+01, 8.54357466e+03, 5.80199398e+03])"
      ]
     },
     "execution_count": 58,
     "metadata": {},
     "output_type": "execute_result"
    }
   ],
   "source": [
    "ridge_cv.coef_"
   ]
  },
  {
   "cell_type": "code",
   "execution_count": 59,
   "metadata": {},
   "outputs": [
    {
     "data": {
      "text/plain": [
       "-1416337.9753766991"
      ]
     },
     "execution_count": 59,
     "metadata": {},
     "output_type": "execute_result"
    }
   ],
   "source": [
    "ridge_cv.intercept_"
   ]
  },
  {
   "cell_type": "code",
   "execution_count": 60,
   "metadata": {},
   "outputs": [
    {
     "data": {
      "text/plain": [
       "0.8026120790909581"
      ]
     },
     "execution_count": 60,
     "metadata": {},
     "output_type": "execute_result"
    }
   ],
   "source": [
    "ridge_scores.mean()"
   ]
  },
  {
   "cell_type": "code",
   "execution_count": 61,
   "metadata": {},
   "outputs": [],
   "source": [
    "pred = ridge.predict(X_test)"
   ]
  },
  {
   "cell_type": "code",
   "execution_count": 62,
   "metadata": {},
   "outputs": [
    {
     "data": {
      "text/plain": [
       "0.9026714792189777"
      ]
     },
     "execution_count": 62,
     "metadata": {},
     "output_type": "execute_result"
    }
   ],
   "source": [
    "r2_score(y_test, pred)"
   ]
  },
  {
   "cell_type": "code",
   "execution_count": 63,
   "metadata": {},
   "outputs": [
    {
     "data": {
      "text/plain": [
       "<AxesSubplot:title={'center':'Modal Coefficients'}>"
      ]
     },
     "execution_count": 63,
     "metadata": {},
     "output_type": "execute_result"
    },
    {
     "data": {
      "image/png": "[encoded data removed]",
      "text/plain": [
       "<Figure size 1440x576 with 1 Axes>"
      ]
     },
     "metadata": {
      "needs_background": "light"
     },
     "output_type": "display_data"
    }
   ],
   "source": [
    "predictors = [col for col in df._get_numeric_data().columns if col != 'SalePrice']\n",
    "plt.xticks(rotation=45)\n",
    "\n",
    "coef = pd.Series(ridge.coef_,predictors).sort_values()\n",
    "\n",
    "coef.plot(kind='bar', title='Modal Coefficients', figsize=(20, 8))"
   ]
  },
  {
   "cell_type": "markdown",
   "metadata": {},
   "source": [
    "### Residuals"
   ]
  },
  {
   "cell_type": "code",
   "execution_count": 64,
   "metadata": {},
   "outputs": [],
   "source": [
    "residuals = y_test - pred"
   ]
  },
  {
   "cell_type": "code",
   "execution_count": 65,
   "metadata": {},
   "outputs": [
    {
     "data": {
      "text/plain": [
       "Text(0.5, 1.0, 'Residuals Dist')"
      ]
     },
     "execution_count": 65,
     "metadata": {},
     "output_type": "execute_result"
    },
    {
     "data": {
      "image/png": "[encoded data removed]",
      "text/plain": [
       "<Figure size 432x288 with 1 Axes>"
      ]
     },
     "metadata": {
      "needs_background": "light"
     },
     "output_type": "display_data"
    }
   ],
   "source": [
    "plt.hist(residuals)\n",
    "plt.title('Residuals Dist')"
   ]
  },
  {
   "cell_type": "markdown",
   "metadata": {},
   "source": [
    "### Normalise Distribution (Applying log)"
   ]
  },
  {
   "cell_type": "code",
   "execution_count": 66,
   "metadata": {},
   "outputs": [
    {
     "data": {
      "text/plain": [
       "Text(0.5, 1.0, 'Residuals (Log)')"
      ]
     },
     "execution_count": 66,
     "metadata": {},
     "output_type": "execute_result"
    },
    {
     "data": {
      "image/png": "[encoded data removed]",
      "text/plain": [
       "<Figure size 432x288 with 1 Axes>"
      ]
     },
     "metadata": {
      "needs_background": "light"
     },
     "output_type": "display_data"
    }
   ],
   "source": [
    "plt.hist(np.log(residuals))\n",
    "plt.title('Residuals (Log)')"
   ]
  },
  {
   "cell_type": "markdown",
   "metadata": {},
   "source": [
    "### Comparing Predictions with residuals"
   ]
  },
  {
   "cell_type": "code",
   "execution_count": 67,
   "metadata": {},
   "outputs": [
    {
     "data": {
      "text/plain": [
       "Text(0.5, 1.0, 'Ridge Regression Model')"
      ]
     },
     "execution_count": 67,
     "metadata": {},
     "output_type": "execute_result"
    },
    {
     "data": {
      "image/png": "[encoded data removed]",
      "text/plain": [
       "<Figure size 432x288 with 1 Axes>"
      ]
     },
     "metadata": {
      "needs_background": "light"
     },
     "output_type": "display_data"
    }
   ],
   "source": [
    "plt.scatter(pred, residuals)\n",
    "plt.xlabel(\"Predictions\")\n",
    "plt.ylabel(\"Residuals\")\n",
    "plt.title('Ridge Regression Model')"
   ]
  },
  {
   "cell_type": "markdown",
   "metadata": {},
   "source": [
    "## Sale Price Prediction for Train with Ridge Regression"
   ]
  },
  {
   "cell_type": "code",
   "execution_count": 68,
   "metadata": {},
   "outputs": [
    {
     "data": {
      "text/plain": [
       "array([301202.24145403, 300562.1179599 , 232340.47487886, 197853.75764743,\n",
       "       226170.38092186, 249790.64158742, 251472.2859054 , 356759.1145156 ,\n",
       "       199649.57860943,  96523.74404659, 188631.20287571, 131959.47464141,\n",
       "        54470.89536168, 199760.56544963, 246663.14352269, 228931.65998329,\n",
       "       305357.00956913,  66523.81685318, 113182.63810166, 181133.75697484,\n",
       "       142046.33539049, 197359.91230105,  99740.76405746, 267798.35425797,\n",
       "       200853.69949432, 232585.86818328, 217605.95877609, 116482.91986235,\n",
       "       148394.04405299, 197903.17191615, 291365.46496335, 107994.25752254,\n",
       "       189207.6626249 , 129716.54506976, 144417.93496246, 128213.47556186,\n",
       "       118567.83036583, 125373.83387929,  88371.42648834, 155221.79428262,\n",
       "       202390.04538568, 147795.86429123, 129216.83715251, 230922.43097834,\n",
       "       173934.70630065, 303435.95864193, 252471.13507508, 114989.28397338,\n",
       "       142805.34167801, 111798.80217955,  81933.76116642, 134483.71997144,\n",
       "       187209.31410925, 120582.38535193, 194854.77338987,  -1510.03257381,\n",
       "       149112.07523114, 142697.84064063,  59850.12821913, 348725.66989426,\n",
       "       122500.79794246,  97793.0505536 , 124031.08889637, 231463.83269179,\n",
       "       232546.72524262, 171712.75009801, 136488.39255415, 225221.59444952,\n",
       "       200034.12819546, 108970.7271767 , 253040.13218501,  91770.86683245,\n",
       "       156643.83095168,  97501.71201921, 119212.41930851, 113655.62519529,\n",
       "       238763.58311359,  -4423.68247122, 116522.94586231, 166194.76159797,\n",
       "       123959.26610476, 201110.41309511, 138975.62078309, -41238.88987797,\n",
       "       190308.51126573, 148186.87308284, 216100.17563446, 105491.12264487,\n",
       "       246652.10910571, 226382.53817068, 231430.05005344, 125978.15280338,\n",
       "       292734.61197701, 205761.18306763, 257663.09025348, 187931.79309291,\n",
       "        75036.75581125, 216435.61454205, 167487.10511974, 141217.5661279 ,\n",
       "       190412.67007111,  78138.46645414, 213910.28777411, 303445.25339999,\n",
       "       273951.41526788, 117467.69372639, 198916.86023715, 147025.70100347,\n",
       "       225266.17268892, 147736.13999451, 151242.65464763, 155798.66529745,\n",
       "       147922.97120361, 199506.31377152,  55812.5966842 , 179485.73665178,\n",
       "       348745.4649145 , 181284.52027718, 200151.48460801, 294222.8097085 ,\n",
       "       193140.90312319, 119392.32886375, 165456.47553734, 105011.04164639,\n",
       "       238105.75610643,  61192.19792803, 121589.76035594, 123229.69939641,\n",
       "       197234.84008571, 195859.64506614, 143597.6970571 , 100511.66980603,\n",
       "       231394.55862253, 255270.47908832, 208169.37324641, 232983.90994271,\n",
       "       241484.43635992, 152956.42387555, 102801.48509202, 353856.66825263,\n",
       "        73772.85399678, 191589.28591766, 312214.55356266, 223399.66408657,\n",
       "        82686.24695281, 137887.09484618, 267712.05355404, 133158.19348658,\n",
       "       232346.04101152,  95518.47653725,  93050.33347689, 299626.26433701,\n",
       "       155263.81847995, 133737.6567917 , 157490.24268811, 264486.69163832,\n",
       "       201783.74881481, 280700.31648597, 305715.07628885, 311349.57263534,\n",
       "       237568.47288475, 173813.3991419 , 138810.76686287,  75615.98117275,\n",
       "       214578.27385649, 250711.42210231, 180973.62942292,  48772.57469553,\n",
       "        93442.52610263,  95066.98059013, 201932.67873253, 124822.43090476,\n",
       "       297883.28409675, 344453.28338475, 115963.36493649, 175724.99859235,\n",
       "       102306.06412199, 121001.65448769, 114783.26400986, 112000.73894384,\n",
       "       226180.5433209 , 115631.84566532, 220727.20926079, 176721.8283825 ,\n",
       "       210957.93719418, 245903.80720921, 202298.2915717 , 201855.22391806,\n",
       "       309466.12931269, 205678.2235735 , 150613.00441416, 257741.71135848,\n",
       "       218468.534675  , 162111.59031538, 203374.77334344, 129136.67479308,\n",
       "       190575.5727715 ,  25448.92573137, 203388.31581902, 133315.87928274,\n",
       "       126759.85859455, 198586.20574617, 222211.67866873, 209839.22514813,\n",
       "       158233.41543652,  81067.78261041, 323329.75803931, 240942.14337839,\n",
       "       203028.68620576, 142442.34021572, 204486.76619716,  76705.79517422,\n",
       "       118519.09186695, 357179.73666683, 211636.93052811, 153233.54957831,\n",
       "       182311.95703559, 165614.65061765, 261142.72659846, 241663.17850467,\n",
       "       276713.26237596,  98201.11610982, 202260.62175815, 188841.80970134,\n",
       "       187428.55119138, 159416.21688857, 248765.06979351, 164853.57668543,\n",
       "       145790.53069962,  64581.76453614, 144655.60748272, 163334.51420239,\n",
       "       223012.5961701 , 161024.00203153, 245453.14526257, 174099.68625647,\n",
       "       114852.71546292,  75951.45284748, 206134.42546778, 166564.1327675 ,\n",
       "       173938.56043873, 201182.27183662, 129875.49781253, 130041.18850916,\n",
       "        64834.90879715, 308625.28351386, 197383.08388487, 166225.35372368,\n",
       "       290572.43220167, 143128.32814868, 210311.55146745, 228492.00438646,\n",
       "       157119.64057647, 185098.45212367, 130748.54157791, 118413.22759237,\n",
       "       113832.86099593, 110309.71700588, 138631.27902842, 128766.41329337,\n",
       "       247890.76700294, 128819.63382793, 127776.9916686 , 311233.44001593,\n",
       "       152893.13374714, 233598.38298736, 202141.90403476, 329024.20558886,\n",
       "        63317.00698995, 210834.34322458, 206516.47438853,  83010.39522684,\n",
       "       205686.07795567, 179038.3220351 , 201466.02229073, 177535.96419577,\n",
       "       116009.91429835, 236806.79121432, 250058.1582858 , 125075.21987743,\n",
       "       258483.06681005, 126461.82906672, 208062.61573849, 212284.68016789,\n",
       "       137210.81830445, 185529.95463125, 283849.50562783,  79417.83064522,\n",
       "       270677.65152485, 274645.45494201, 116748.38977961, 142397.96891421,\n",
       "       324509.09107129, 276369.37924253, 258572.0476664 ,  92682.15033821,\n",
       "       128662.05766296, 125282.60729804, 380886.05745372, 198442.86396487,\n",
       "        73410.12893351, 215650.95887283, 215560.60458725, 260626.55104196,\n",
       "       201576.4326122 , 131776.74715933, 143822.33993235, 125689.32368367,\n",
       "       123216.55061344, 115440.83768353,  98789.20024122,  92542.69335732,\n",
       "       233668.29471614, 300765.18725451,  22636.82023017, 225774.07297323,\n",
       "        68249.73580817, 113684.722704  , 228047.93584562,  73369.94750065,\n",
       "       260960.87305673, 271267.67186939, 189771.69365184,  94070.32135495,\n",
       "       275620.69115476, 289156.78206954, 153137.04779544, 164425.51280817,\n",
       "       203165.79458937, 280154.68130932, 315384.22035153,  50034.84057246,\n",
       "       153439.75681226, 178079.12136444,  55840.20514424, 163807.86980921,\n",
       "       183324.19215318, 121521.90953428, 107793.64876846,  78912.25052631,\n",
       "       159556.92156945, 142826.11152785, 171294.98094526,  85993.75445159,\n",
       "       203387.1987883 , 141644.81920899,  85998.86907907, 200373.59803648,\n",
       "       182885.50080914, 200796.74596688, 202480.23308124, 164670.45342923,\n",
       "       296110.18727587, 141016.71383236, 356096.76398842, 123451.20984592,\n",
       "       128047.47311537, 312415.51056797, 244943.53903936, 289004.2463575 ,\n",
       "       233288.35098587, 246589.82788477, 155401.09095849, 179034.82878767,\n",
       "        88768.37878936, 157722.89943462, 358974.40499403,  84104.40813829,\n",
       "       183715.9533512 , 264416.33485831, 248415.67875742, 227848.45330193,\n",
       "       173378.86115994, 108213.84393584, 133241.31032587,  98636.29051073,\n",
       "       199606.4569573 , 245325.66955176, 134235.63481257, 131413.64701583,\n",
       "       295037.78262779, 247508.3234947 , 375087.67519754, 280976.36035218,\n",
       "       257837.564914  , 121462.52004665, 192243.48294032, 260426.13895414,\n",
       "       121447.00160711, 198771.00392952,  99812.03442844, 214996.40237811,\n",
       "       152063.54728462, 204621.88776992, 129147.1011405 , 104992.51403856,\n",
       "       262014.02682322, 200155.74449035, 219881.95589481, 127184.97189053,\n",
       "       119789.37326937, 296705.59130834, 116399.01922992, 207205.11079634,\n",
       "       269961.51110578, 206314.01849413, 145568.49475949, 130640.22045418,\n",
       "        47746.74249821])"
      ]
     },
     "execution_count": 68,
     "metadata": {},
     "output_type": "execute_result"
    }
   ],
   "source": [
    "pred_rid"
   ]
  },
  {
   "cell_type": "markdown",
   "metadata": {},
   "source": [
    "## Interpretation of Final Model"
   ]
  },
  {
   "cell_type": "markdown",
   "metadata": {},
   "source": [
    "Ridge Regression penalizes the model if the removed predictors are seen as setting their coefficent to 0. Hence, it enforces the removed predictors to be of slight significance in a continous way. This reduces the complexity of the model while holding on the the variables.\n",
    "\n",
    "The 2 visualizations above shows the (1) coefficients of variables and the (2) relationship between residuals and predictions. For example, if a garage quality as deemed as good (second highest coefficient), for every unit increase in the garage quality, it will in turn increase the price of the house by about ~25k, subject to other variables being constant.\n",
    "\n",
    "Also, with an intercept of -1416337.98, the price of the home (Y) will be around -1.4million should all variables (X) be  = 0. However, it is not logical. I will further research on this matter as my future work."
   ]
  },
  {
   "cell_type": "markdown",
   "metadata": {},
   "source": [
    "## Conclusion"
   ]
  },
  {
   "cell_type": "markdown",
   "metadata": {},
   "source": [
    "After testing various models, the most successful model in predicting home prices would be the ridge regression model. Meanwhile, the analysis also paints a clearer view of the variables important in affecting the prices. Quality variables are the most important, followed by size of the home  and the location it is built in. By taking these 3 important points into consideration, future homeowners could use them to help them find the most suitable home within their budget by predicting the sale price.\n",
    "\n",
    "Going forward, I would like to dive deeper into exploring more variables and combinations to get more accurate models and weighing different variables to see if the effect on the various models would be significant. I would also like to use more models to experiment with the dataset."
   ]
  },
  {
   "cell_type": "code",
   "execution_count": null,
   "metadata": {},
   "outputs": [],
   "source": []
  }
 ],
 "metadata": {
  "kernelspec": {
   "display_name": "Python 3",
   "language": "python",
   "name": "python3"
  },
  "language_info": {
   "codemirror_mode": {
    "name": "ipython",
    "version": 3
   },
   "file_extension": ".py",
   "mimetype": "text/x-python",
   "name": "python",
   "nbconvert_exporter": "python",
   "pygments_lexer": "ipython3",
   "version": "3.8.5"
  }
 },
 "nbformat": 4,
 "nbformat_minor": 4
}
